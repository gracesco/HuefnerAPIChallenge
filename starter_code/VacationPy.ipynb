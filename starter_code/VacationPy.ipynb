{
 "cells": [
  {
   "cell_type": "markdown",
   "metadata": {},
   "source": [
    "# VacationPy\n",
    "----\n",
    "\n",
    "#### Note\n",
    "* Instructions have been included for each segment. You do not have to follow them exactly, but they are included to help you think through the steps."
   ]
  },
  {
   "cell_type": "code",
   "execution_count": 24,
   "metadata": {},
   "outputs": [],
   "source": [
    "# Dependencies and Setup\n",
    "import matplotlib.pyplot as plt\n",
    "import pandas as pd\n",
    "import numpy as np\n",
    "import requests\n",
    "import gmaps\n",
    "import os\n",
    "\n",
    "# Import API key\n",
    "from api_keys import g_key\n"
   ]
  },
  {
   "cell_type": "markdown",
   "metadata": {},
   "source": [
    "### Store Part I results into DataFrame\n",
    "* Load the csv exported in Part I to a DataFrame"
   ]
  },
  {
   "cell_type": "code",
   "execution_count": 25,
   "metadata": {},
   "outputs": [
    {
     "output_type": "execute_result",
     "data": {
      "text/plain": "   Unnamed: 0             City  Cloudiness                           Date  \\\n0           0     port lincoln         100  1970-01-01 00:00:01.596660445   \n1           1         hermanus          42  1970-01-01 00:00:01.596659919   \n2           2  verkhniy avzyan          48  1970-01-01 00:00:01.596660446   \n3           3       chokurdakh          13  1970-01-01 00:00:01.596659637   \n4           4           olinda          40  1970-01-01 00:00:01.596659972   \n\n    Temp  Wind Speed  Humidity Country    Lat    Long  \n0  49.86       19.30        68      AU -34.73  135.87  \n1  43.00        1.01        94      ZA -34.42   19.23  \n2  62.78        5.37        83      RU  53.53   57.54  \n3  59.43        6.80        48      RU  70.63  147.92  \n4  78.80       18.34        65      BR  -8.01  -34.86  ",
      "text/html": "<div>\n<style scoped>\n    .dataframe tbody tr th:only-of-type {\n        vertical-align: middle;\n    }\n\n    .dataframe tbody tr th {\n        vertical-align: top;\n    }\n\n    .dataframe thead th {\n        text-align: right;\n    }\n</style>\n<table border=\"1\" class=\"dataframe\">\n  <thead>\n    <tr style=\"text-align: right;\">\n      <th></th>\n      <th>Unnamed: 0</th>\n      <th>City</th>\n      <th>Cloudiness</th>\n      <th>Date</th>\n      <th>Temp</th>\n      <th>Wind Speed</th>\n      <th>Humidity</th>\n      <th>Country</th>\n      <th>Lat</th>\n      <th>Long</th>\n    </tr>\n  </thead>\n  <tbody>\n    <tr>\n      <th>0</th>\n      <td>0</td>\n      <td>port lincoln</td>\n      <td>100</td>\n      <td>1970-01-01 00:00:01.596660445</td>\n      <td>49.86</td>\n      <td>19.30</td>\n      <td>68</td>\n      <td>AU</td>\n      <td>-34.73</td>\n      <td>135.87</td>\n    </tr>\n    <tr>\n      <th>1</th>\n      <td>1</td>\n      <td>hermanus</td>\n      <td>42</td>\n      <td>1970-01-01 00:00:01.596659919</td>\n      <td>43.00</td>\n      <td>1.01</td>\n      <td>94</td>\n      <td>ZA</td>\n      <td>-34.42</td>\n      <td>19.23</td>\n    </tr>\n    <tr>\n      <th>2</th>\n      <td>2</td>\n      <td>verkhniy avzyan</td>\n      <td>48</td>\n      <td>1970-01-01 00:00:01.596660446</td>\n      <td>62.78</td>\n      <td>5.37</td>\n      <td>83</td>\n      <td>RU</td>\n      <td>53.53</td>\n      <td>57.54</td>\n    </tr>\n    <tr>\n      <th>3</th>\n      <td>3</td>\n      <td>chokurdakh</td>\n      <td>13</td>\n      <td>1970-01-01 00:00:01.596659637</td>\n      <td>59.43</td>\n      <td>6.80</td>\n      <td>48</td>\n      <td>RU</td>\n      <td>70.63</td>\n      <td>147.92</td>\n    </tr>\n    <tr>\n      <th>4</th>\n      <td>4</td>\n      <td>olinda</td>\n      <td>40</td>\n      <td>1970-01-01 00:00:01.596659972</td>\n      <td>78.80</td>\n      <td>18.34</td>\n      <td>65</td>\n      <td>BR</td>\n      <td>-8.01</td>\n      <td>-34.86</td>\n    </tr>\n  </tbody>\n</table>\n</div>"
     },
     "metadata": {},
     "execution_count": 25
    }
   ],
   "source": [
    "# Define CSV\n",
    "weather_data_file = \"../output_data/weather_data.csv\"\n",
    "\n",
    "# Load into \n",
    "weather_data_df = pd.read_csv(weather_data_file)\n",
    "weather_data_df.head()\n"
   ]
  },
  {
   "cell_type": "markdown",
   "metadata": {},
   "source": [
    "### Humidity Heatmap\n",
    "* Configure gmaps.\n",
    "* Use the Lat and Lng as locations and Humidity as the weight.\n",
    "* Add Heatmap layer to map."
   ]
  },
  {
   "cell_type": "code",
   "execution_count": 35,
   "metadata": {},
   "outputs": [
    {
     "output_type": "display_data",
     "data": {
      "text/plain": "Figure(layout=FigureLayout(height='420px'))",
      "application/vnd.jupyter.widget-view+json": {
       "version_major": 2,
       "version_minor": 0,
       "model_id": "821d2dd413e541fa9d39e96138867c13"
      }
     },
     "metadata": {}
    }
   ],
   "source": [
    "\n",
    "gmaps.configure(api_key = g_key)\n",
    "locations=weather_data_df[[\"Lat\",\"Long\"]]\n",
    "humidity = weather_data_df.Humidity.astype(float)\n",
    "\n",
    "fig=gmaps.figure()\n",
    "\n",
    "heatmap_layer=gmaps.heatmap_layer(locations, weights=humidity, dissipating = False, max_intensity=50, point_radius=1)\n",
    "fig.add_layer(heatmap_layer)\n",
    "fig\n"
   ]
  },
  {
   "cell_type": "code",
   "execution_count": null,
   "metadata": {},
   "outputs": [],
   "source": [
    "\n"
   ]
  },
  {
   "cell_type": "markdown",
   "metadata": {},
   "source": [
    "### Create new DataFrame fitting weather criteria\n",
    "* Narrow down the cities to fit weather conditions.\n",
    "* Drop any rows will null values."
   ]
  },
  {
   "cell_type": "code",
   "execution_count": 28,
   "metadata": {},
   "outputs": [
    {
     "output_type": "execute_result",
     "data": {
      "text/plain": "                        City   Temp  Wind Speed  Cloudiness\n59                    tiznit  67.28        3.36           0\n63                  arcachon  77.00        8.05           0\n85                      lata  78.01        5.01           0\n158           saint-francois  71.60        3.36           0\n172                  tripoli  77.52        9.01           0\n177               rio grande  78.80        8.05           0\n178                  shimoda  73.00        1.01           0\n206                     chuy  66.02        7.99           0\n243          paray-le-monial  71.60        3.36           0\n246                     goya  79.59        6.42           0\n264                   kamina  66.99        2.73           0\n298                   ampere  65.50        2.59           0\n313                  tazmalt  71.60        4.70           0\n314  santa vitoria do palmar  66.22        7.65           0\n334                hongjiang  76.26        3.15           0\n335                   shurob  73.94        3.83           0\n375                    bayir  75.20        2.24           0\n382                      vao  69.48        5.79           0\n413                    muros  71.01        3.00           0\n465             saint-esteve  75.00        4.70           0\n488                  madimba  70.92        8.28           0",
      "text/html": "<div>\n<style scoped>\n    .dataframe tbody tr th:only-of-type {\n        vertical-align: middle;\n    }\n\n    .dataframe tbody tr th {\n        vertical-align: top;\n    }\n\n    .dataframe thead th {\n        text-align: right;\n    }\n</style>\n<table border=\"1\" class=\"dataframe\">\n  <thead>\n    <tr style=\"text-align: right;\">\n      <th></th>\n      <th>City</th>\n      <th>Temp</th>\n      <th>Wind Speed</th>\n      <th>Cloudiness</th>\n    </tr>\n  </thead>\n  <tbody>\n    <tr>\n      <th>59</th>\n      <td>tiznit</td>\n      <td>67.28</td>\n      <td>3.36</td>\n      <td>0</td>\n    </tr>\n    <tr>\n      <th>63</th>\n      <td>arcachon</td>\n      <td>77.00</td>\n      <td>8.05</td>\n      <td>0</td>\n    </tr>\n    <tr>\n      <th>85</th>\n      <td>lata</td>\n      <td>78.01</td>\n      <td>5.01</td>\n      <td>0</td>\n    </tr>\n    <tr>\n      <th>158</th>\n      <td>saint-francois</td>\n      <td>71.60</td>\n      <td>3.36</td>\n      <td>0</td>\n    </tr>\n    <tr>\n      <th>172</th>\n      <td>tripoli</td>\n      <td>77.52</td>\n      <td>9.01</td>\n      <td>0</td>\n    </tr>\n    <tr>\n      <th>177</th>\n      <td>rio grande</td>\n      <td>78.80</td>\n      <td>8.05</td>\n      <td>0</td>\n    </tr>\n    <tr>\n      <th>178</th>\n      <td>shimoda</td>\n      <td>73.00</td>\n      <td>1.01</td>\n      <td>0</td>\n    </tr>\n    <tr>\n      <th>206</th>\n      <td>chuy</td>\n      <td>66.02</td>\n      <td>7.99</td>\n      <td>0</td>\n    </tr>\n    <tr>\n      <th>243</th>\n      <td>paray-le-monial</td>\n      <td>71.60</td>\n      <td>3.36</td>\n      <td>0</td>\n    </tr>\n    <tr>\n      <th>246</th>\n      <td>goya</td>\n      <td>79.59</td>\n      <td>6.42</td>\n      <td>0</td>\n    </tr>\n    <tr>\n      <th>264</th>\n      <td>kamina</td>\n      <td>66.99</td>\n      <td>2.73</td>\n      <td>0</td>\n    </tr>\n    <tr>\n      <th>298</th>\n      <td>ampere</td>\n      <td>65.50</td>\n      <td>2.59</td>\n      <td>0</td>\n    </tr>\n    <tr>\n      <th>313</th>\n      <td>tazmalt</td>\n      <td>71.60</td>\n      <td>4.70</td>\n      <td>0</td>\n    </tr>\n    <tr>\n      <th>314</th>\n      <td>santa vitoria do palmar</td>\n      <td>66.22</td>\n      <td>7.65</td>\n      <td>0</td>\n    </tr>\n    <tr>\n      <th>334</th>\n      <td>hongjiang</td>\n      <td>76.26</td>\n      <td>3.15</td>\n      <td>0</td>\n    </tr>\n    <tr>\n      <th>335</th>\n      <td>shurob</td>\n      <td>73.94</td>\n      <td>3.83</td>\n      <td>0</td>\n    </tr>\n    <tr>\n      <th>375</th>\n      <td>bayir</td>\n      <td>75.20</td>\n      <td>2.24</td>\n      <td>0</td>\n    </tr>\n    <tr>\n      <th>382</th>\n      <td>vao</td>\n      <td>69.48</td>\n      <td>5.79</td>\n      <td>0</td>\n    </tr>\n    <tr>\n      <th>413</th>\n      <td>muros</td>\n      <td>71.01</td>\n      <td>3.00</td>\n      <td>0</td>\n    </tr>\n    <tr>\n      <th>465</th>\n      <td>saint-esteve</td>\n      <td>75.00</td>\n      <td>4.70</td>\n      <td>0</td>\n    </tr>\n    <tr>\n      <th>488</th>\n      <td>madimba</td>\n      <td>70.92</td>\n      <td>8.28</td>\n      <td>0</td>\n    </tr>\n  </tbody>\n</table>\n</div>"
     },
     "metadata": {},
     "execution_count": 28
    }
   ],
   "source": [
    "# Max temperature of 80 degrees and no lower than 65 degrees, windspeed less than 10mph, and no cloudiness\n",
    "\n",
    "conditions_df = pd.DataFrame(weather_data_df, columns = [\"City\", \"Temp\", \"Wind Speed\", \"Cloudiness\"])\n",
    "\n",
    "temp = (conditions_df[\"Temp\"] <= 80) & (new_df[\"Temp\"] > 65)\n",
    "wind_speed = conditions_df[\"Wind Speed\"] < 10\n",
    "cloudiness = conditions_df[\"Cloudiness\"] == 0\n",
    "\n",
    "# new_types_df[max_temp & wind_speed & cloudiness]\n",
    "conditions_df[temp & wind_speed & cloudiness]"
   ]
  },
  {
   "cell_type": "markdown",
   "metadata": {},
   "source": [
    "### Hotel Map\n",
    "* Store into variable named `hotel_df`.\n",
    "* Add a \"Hotel Name\" column to the DataFrame.\n",
    "* Set parameters to search for hotels with 5000 meters.\n",
    "* Hit the Google Places API for each city's coordinates.\n",
    "* Store the first Hotel result into the DataFrame.\n",
    "* Plot markers on top of the heatmap."
   ]
  },
  {
   "cell_type": "code",
   "execution_count": 29,
   "metadata": {},
   "outputs": [
    {
     "output_type": "execute_result",
     "data": {
      "text/plain": "                City Country    Lat    Long Hotel Name\n0       port lincoln      AU -34.73  135.87           \n1           hermanus      ZA -34.42   19.23           \n2    verkhniy avzyan      RU  53.53   57.54           \n3         chokurdakh      RU  70.63  147.92           \n4             olinda      BR  -8.01  -34.86           \n..               ...     ...    ...     ...        ...\n542         beloomut      RU  54.94   39.34           \n543            gamba      GA  -2.65   10.00           \n544      beaverlodge      CA  55.22 -119.44           \n545          balabac      PH   7.99  117.06           \n546      robertsport      LR   6.75  -11.37           \n\n[543 rows x 5 columns]",
      "text/html": "<div>\n<style scoped>\n    .dataframe tbody tr th:only-of-type {\n        vertical-align: middle;\n    }\n\n    .dataframe tbody tr th {\n        vertical-align: top;\n    }\n\n    .dataframe thead th {\n        text-align: right;\n    }\n</style>\n<table border=\"1\" class=\"dataframe\">\n  <thead>\n    <tr style=\"text-align: right;\">\n      <th></th>\n      <th>City</th>\n      <th>Country</th>\n      <th>Lat</th>\n      <th>Long</th>\n      <th>Hotel Name</th>\n    </tr>\n  </thead>\n  <tbody>\n    <tr>\n      <th>0</th>\n      <td>port lincoln</td>\n      <td>AU</td>\n      <td>-34.73</td>\n      <td>135.87</td>\n      <td></td>\n    </tr>\n    <tr>\n      <th>1</th>\n      <td>hermanus</td>\n      <td>ZA</td>\n      <td>-34.42</td>\n      <td>19.23</td>\n      <td></td>\n    </tr>\n    <tr>\n      <th>2</th>\n      <td>verkhniy avzyan</td>\n      <td>RU</td>\n      <td>53.53</td>\n      <td>57.54</td>\n      <td></td>\n    </tr>\n    <tr>\n      <th>3</th>\n      <td>chokurdakh</td>\n      <td>RU</td>\n      <td>70.63</td>\n      <td>147.92</td>\n      <td></td>\n    </tr>\n    <tr>\n      <th>4</th>\n      <td>olinda</td>\n      <td>BR</td>\n      <td>-8.01</td>\n      <td>-34.86</td>\n      <td></td>\n    </tr>\n    <tr>\n      <th>...</th>\n      <td>...</td>\n      <td>...</td>\n      <td>...</td>\n      <td>...</td>\n      <td>...</td>\n    </tr>\n    <tr>\n      <th>542</th>\n      <td>beloomut</td>\n      <td>RU</td>\n      <td>54.94</td>\n      <td>39.34</td>\n      <td></td>\n    </tr>\n    <tr>\n      <th>543</th>\n      <td>gamba</td>\n      <td>GA</td>\n      <td>-2.65</td>\n      <td>10.00</td>\n      <td></td>\n    </tr>\n    <tr>\n      <th>544</th>\n      <td>beaverlodge</td>\n      <td>CA</td>\n      <td>55.22</td>\n      <td>-119.44</td>\n      <td></td>\n    </tr>\n    <tr>\n      <th>545</th>\n      <td>balabac</td>\n      <td>PH</td>\n      <td>7.99</td>\n      <td>117.06</td>\n      <td></td>\n    </tr>\n    <tr>\n      <th>546</th>\n      <td>robertsport</td>\n      <td>LR</td>\n      <td>6.75</td>\n      <td>-11.37</td>\n      <td></td>\n    </tr>\n  </tbody>\n</table>\n<p>543 rows × 5 columns</p>\n</div>"
     },
     "metadata": {},
     "execution_count": 29
    }
   ],
   "source": [
    "# Create hotel dataframe \n",
    "hotel_df = pd.DataFrame(weather_data_df, columns=[\"City\", \"Country\", \"Lat\", \"Long\"])\n",
    "hotel_df[\"Hotel Name\"] = \"\"\n",
    "hotel_df.dropna()"
   ]
  },
  {
   "cell_type": "code",
   "execution_count": null,
   "metadata": {},
   "outputs": [],
   "source": []
  },
  {
   "cell_type": "code",
   "execution_count": 31,
   "metadata": {
    "tags": []
   },
   "outputs": [
    {
     "output_type": "stream",
     "name": "stdout",
     "text": "No Hotel Found. Next!\nNo Hotel Found. Next!\nNo Hotel Found. Next!\nNo Hotel Found. Next!\nNo Hotel Found. Next!\nNo Hotel Found. Next!\nNo Hotel Found. Next!\nNo Hotel Found. Next!\nNo Hotel Found. Next!\nNo Hotel Found. Next!\nNo Hotel Found. Next!\nNo Hotel Found. Next!\nNo Hotel Found. Next!\nNo Hotel Found. Next!\nNo Hotel Found. Next!\nNo Hotel Found. Next!\nNo Hotel Found. Next!\nNo Hotel Found. Next!\nNo Hotel Found. Next!\nNo Hotel Found. Next!\nNo Hotel Found. Next!\nNo Hotel Found. Next!\nNo Hotel Found. Next!\nNo Hotel Found. Next!\nNo Hotel Found. Next!\nNo Hotel Found. Next!\nNo Hotel Found. Next!\nNo Hotel Found. Next!\nNo Hotel Found. Next!\nNo Hotel Found. Next!\nNo Hotel Found. Next!\nNo Hotel Found. Next!\nNo Hotel Found. Next!\nNo Hotel Found. Next!\nNo Hotel Found. Next!\nNo Hotel Found. Next!\nNo Hotel Found. Next!\nNo Hotel Found. Next!\nNo Hotel Found. Next!\nNo Hotel Found. Next!\nNo Hotel Found. Next!\nNo Hotel Found. Next!\nNo Hotel Found. Next!\nNo Hotel Found. Next!\nNo Hotel Found. Next!\nNo Hotel Found. Next!\nNo Hotel Found. Next!\nNo Hotel Found. Next!\nNo Hotel Found. Next!\nNo Hotel Found. Next!\nNo Hotel Found. Next!\nNo Hotel Found. Next!\nNo Hotel Found. Next!\nNo Hotel Found. Next!\nNo Hotel Found. Next!\nNo Hotel Found. Next!\nNo Hotel Found. Next!\nNo Hotel Found. Next!\nNo Hotel Found. Next!\nNo Hotel Found. Next!\nNo Hotel Found. Next!\nNo Hotel Found. Next!\nNo Hotel Found. Next!\nNo Hotel Found. Next!\nNo Hotel Found. Next!\nNo Hotel Found. Next!\nNo Hotel Found. Next!\nNo Hotel Found. Next!\nNo Hotel Found. Next!\nNo Hotel Found. Next!\nNo Hotel Found. Next!\nNo Hotel Found. Next!\nNo Hotel Found. Next!\nNo Hotel Found. Next!\nNo Hotel Found. Next!\nNo Hotel Found. Next!\nNo Hotel Found. Next!\nNo Hotel Found. Next!\nNo Hotel Found. Next!\nNo Hotel Found. Next!\nNo Hotel Found. Next!\nNo Hotel Found. Next!\nNo Hotel Found. Next!\nNo Hotel Found. Next!\nNo Hotel Found. Next!\nNo Hotel Found. Next!\nNo Hotel Found. Next!\nNo Hotel Found. Next!\nNo Hotel Found. Next!\nNo Hotel Found. Next!\nNo Hotel Found. Next!\nNo Hotel Found. Next!\nNo Hotel Found. Next!\nNo Hotel Found. Next!\nNo Hotel Found. Next!\nNo Hotel Found. Next!\nNo Hotel Found. Next!\nNo Hotel Found. Next!\nNo Hotel Found. Next!\nNo Hotel Found. Next!\nNo Hotel Found. Next!\nNo Hotel Found. Next!\nNo Hotel Found. Next!\nNo Hotel Found. Next!\nNo Hotel Found. Next!\nNo Hotel Found. Next!\nNo Hotel Found. Next!\nNo Hotel Found. Next!\nNo Hotel Found. Next!\nNo Hotel Found. Next!\nNo Hotel Found. Next!\nNo Hotel Found. Next!\nNo Hotel Found. Next!\nNo Hotel Found. Next!\nNo Hotel Found. Next!\nNo Hotel Found. Next!\nNo Hotel Found. Next!\nNo Hotel Found. Next!\nNo Hotel Found. Next!\nNo Hotel Found. Next!\nNo Hotel Found. Next!\nNo Hotel Found. Next!\nNo Hotel Found. Next!\nNo Hotel Found. Next!\nNo Hotel Found. Next!\nNo Hotel Found. Next!\nNo Hotel Found. Next!\nNo Hotel Found. Next!\nNo Hotel Found. Next!\nNo Hotel Found. Next!\nNo Hotel Found. Next!\nNo Hotel Found. Next!\nNo Hotel Found. Next!\nNo Hotel Found. Next!\nNo Hotel Found. Next!\nNo Hotel Found. Next!\nNo Hotel Found. Next!\nNo Hotel Found. Next!\nNo Hotel Found. Next!\nNo Hotel Found. Next!\nNo Hotel Found. Next!\nNo Hotel Found. Next!\nNo Hotel Found. Next!\nNo Hotel Found. Next!\nNo Hotel Found. Next!\nNo Hotel Found. Next!\nNo Hotel Found. Next!\nNo Hotel Found. Next!\nNo Hotel Found. Next!\nNo Hotel Found. Next!\nNo Hotel Found. Next!\nNo Hotel Found. Next!\nNo Hotel Found. Next!\nNo Hotel Found. Next!\nNo Hotel Found. Next!\nNo Hotel Found. Next!\nNo Hotel Found. Next!\nNo Hotel Found. Next!\nNo Hotel Found. Next!\nNo Hotel Found. Next!\nNo Hotel Found. Next!\nNo Hotel Found. Next!\nNo Hotel Found. Next!\nNo Hotel Found. Next!\nNo Hotel Found. Next!\nNo Hotel Found. Next!\nNo Hotel Found. Next!\nNo Hotel Found. Next!\nNo Hotel Found. Next!\nNo Hotel Found. Next!\nNo Hotel Found. Next!\nNo Hotel Found. Next!\nNo Hotel Found. Next!\nNo Hotel Found. Next!\nNo Hotel Found. Next!\nNo Hotel Found. Next!\nNo Hotel Found. Next!\nNo Hotel Found. Next!\nNo Hotel Found. Next!\nNo Hotel Found. Next!\nNo Hotel Found. Next!\nNo Hotel Found. Next!\nNo Hotel Found. Next!\nNo Hotel Found. Next!\nNo Hotel Found. Next!\nNo Hotel Found. Next!\nNo Hotel Found. Next!\nNo Hotel Found. Next!\nNo Hotel Found. Next!\nNo Hotel Found. Next!\nNo Hotel Found. Next!\nNo Hotel Found. Next!\nNo Hotel Found. Next!\nNo Hotel Found. Next!\nNo Hotel Found. Next!\nNo Hotel Found. Next!\nNo Hotel Found. Next!\nNo Hotel Found. Next!\nNo Hotel Found. Next!\nNo Hotel Found. Next!\nNo Hotel Found. Next!\nNo Hotel Found. Next!\nNo Hotel Found. Next!\nNo Hotel Found. Next!\nNo Hotel Found. Next!\nNo Hotel Found. Next!\nNo Hotel Found. Next!\nNo Hotel Found. Next!\nNo Hotel Found. Next!\nNo Hotel Found. Next!\nNo Hotel Found. Next!\nNo Hotel Found. Next!\nNo Hotel Found. Next!\nNo Hotel Found. Next!\nNo Hotel Found. Next!\nNo Hotel Found. Next!\nNo Hotel Found. Next!\nNo Hotel Found. Next!\nNo Hotel Found. Next!\nNo Hotel Found. Next!\nNo Hotel Found. Next!\nNo Hotel Found. Next!\nNo Hotel Found. Next!\nNo Hotel Found. Next!\nNo Hotel Found. Next!\nNo Hotel Found. Next!\nNo Hotel Found. Next!\nNo Hotel Found. Next!\nNo Hotel Found. Next!\nNo Hotel Found. Next!\nNo Hotel Found. Next!\nNo Hotel Found. Next!\nNo Hotel Found. Next!\nNo Hotel Found. Next!\nNo Hotel Found. Next!\nNo Hotel Found. Next!\nNo Hotel Found. Next!\nNo Hotel Found. Next!\nNo Hotel Found. Next!\nNo Hotel Found. Next!\nNo Hotel Found. Next!\nNo Hotel Found. Next!\nNo Hotel Found. Next!\nNo Hotel Found. Next!\nNo Hotel Found. Next!\nNo Hotel Found. Next!\nNo Hotel Found. Next!\nNo Hotel Found. Next!\nNo Hotel Found. Next!\nNo Hotel Found. Next!\nNo Hotel Found. Next!\nNo Hotel Found. Next!\nNo Hotel Found. Next!\nNo Hotel Found. Next!\nNo Hotel Found. Next!\nNo Hotel Found. Next!\nNo Hotel Found. Next!\nNo Hotel Found. Next!\nNo Hotel Found. Next!\nNo Hotel Found. Next!\nNo Hotel Found. Next!\nNo Hotel Found. Next!\nNo Hotel Found. Next!\nNo Hotel Found. Next!\nNo Hotel Found. Next!\nNo Hotel Found. Next!\nNo Hotel Found. Next!\nNo Hotel Found. Next!\nNo Hotel Found. Next!\nNo Hotel Found. Next!\nNo Hotel Found. Next!\nNo Hotel Found. Next!\nNo Hotel Found. Next!\nNo Hotel Found. Next!\nNo Hotel Found. Next!\nNo Hotel Found. Next!\nNo Hotel Found. Next!\nNo Hotel Found. Next!\nNo Hotel Found. Next!\nNo Hotel Found. Next!\nNo Hotel Found. Next!\nNo Hotel Found. Next!\nNo Hotel Found. Next!\nNo Hotel Found. Next!\nNo Hotel Found. Next!\nNo Hotel Found. Next!\nNo Hotel Found. Next!\nNo Hotel Found. Next!\nNo Hotel Found. Next!\nNo Hotel Found. Next!\nNo Hotel Found. Next!\nNo Hotel Found. Next!\nNo Hotel Found. Next!\nNo Hotel Found. Next!\nNo Hotel Found. Next!\nNo Hotel Found. Next!\nNo Hotel Found. Next!\nNo Hotel Found. Next!\nNo Hotel Found. Next!\nNo Hotel Found. Next!\nNo Hotel Found. Next!\nNo Hotel Found. Next!\nNo Hotel Found. Next!\nNo Hotel Found. Next!\nNo Hotel Found. Next!\nNo Hotel Found. Next!\nNo Hotel Found. Next!\nNo Hotel Found. Next!\nNo Hotel Found. Next!\nNo Hotel Found. Next!\nNo Hotel Found. Next!\nNo Hotel Found. Next!\nNo Hotel Found. Next!\nNo Hotel Found. Next!\nNo Hotel Found. Next!\nNo Hotel Found. Next!\nNo Hotel Found. Next!\nNo Hotel Found. Next!\nNo Hotel Found. Next!\nNo Hotel Found. Next!\nNo Hotel Found. Next!\nNo Hotel Found. Next!\nNo Hotel Found. Next!\nNo Hotel Found. Next!\nNo Hotel Found. Next!\nNo Hotel Found. Next!\nNo Hotel Found. Next!\nNo Hotel Found. Next!\nNo Hotel Found. Next!\nNo Hotel Found. Next!\nNo Hotel Found. Next!\nNo Hotel Found. Next!\nNo Hotel Found. Next!\nNo Hotel Found. Next!\nNo Hotel Found. Next!\nNo Hotel Found. Next!\nNo Hotel Found. Next!\nNo Hotel Found. Next!\nNo Hotel Found. Next!\nNo Hotel Found. Next!\nNo Hotel Found. Next!\nNo Hotel Found. Next!\nNo Hotel Found. Next!\nNo Hotel Found. Next!\nNo Hotel Found. Next!\nNo Hotel Found. Next!\nNo Hotel Found. Next!\nNo Hotel Found. Next!\nNo Hotel Found. Next!\nNo Hotel Found. Next!\nNo Hotel Found. Next!\nNo Hotel Found. Next!\nNo Hotel Found. Next!\nNo Hotel Found. Next!\nNo Hotel Found. Next!\nNo Hotel Found. Next!\nNo Hotel Found. Next!\nNo Hotel Found. Next!\nNo Hotel Found. Next!\nNo Hotel Found. Next!\nNo Hotel Found. Next!\nNo Hotel Found. Next!\nNo Hotel Found. Next!\nNo Hotel Found. Next!\nNo Hotel Found. Next!\nNo Hotel Found. Next!\nNo Hotel Found. Next!\nNo Hotel Found. Next!\nNo Hotel Found. Next!\nNo Hotel Found. Next!\nNo Hotel Found. Next!\nNo Hotel Found. Next!\nNo Hotel Found. Next!\nNo Hotel Found. Next!\nNo Hotel Found. Next!\nNo Hotel Found. Next!\nNo Hotel Found. Next!\nNo Hotel Found. Next!\nNo Hotel Found. Next!\nNo Hotel Found. Next!\nNo Hotel Found. Next!\nNo Hotel Found. Next!\nNo Hotel Found. Next!\nNo Hotel Found. Next!\nNo Hotel Found. Next!\nNo Hotel Found. Next!\nNo Hotel Found. Next!\nNo Hotel Found. Next!\nNo Hotel Found. Next!\nNo Hotel Found. Next!\nNo Hotel Found. Next!\nNo Hotel Found. Next!\nNo Hotel Found. Next!\nNo Hotel Found. Next!\nNo Hotel Found. Next!\nNo Hotel Found. Next!\nNo Hotel Found. Next!\nNo Hotel Found. Next!\nNo Hotel Found. Next!\nNo Hotel Found. Next!\nNo Hotel Found. Next!\nNo Hotel Found. Next!\nNo Hotel Found. Next!\nNo Hotel Found. Next!\nNo Hotel Found. Next!\nNo Hotel Found. Next!\nNo Hotel Found. Next!\nNo Hotel Found. Next!\nNo Hotel Found. Next!\nNo Hotel Found. Next!\nNo Hotel Found. Next!\nNo Hotel Found. Next!\nNo Hotel Found. Next!\nNo Hotel Found. Next!\nNo Hotel Found. Next!\nNo Hotel Found. Next!\nNo Hotel Found. Next!\nNo Hotel Found. Next!\nNo Hotel Found. Next!\nNo Hotel Found. Next!\nNo Hotel Found. Next!\nNo Hotel Found. Next!\nNo Hotel Found. Next!\nNo Hotel Found. Next!\nNo Hotel Found. Next!\nNo Hotel Found. Next!\nNo Hotel Found. Next!\nNo Hotel Found. Next!\nNo Hotel Found. Next!\nNo Hotel Found. Next!\nNo Hotel Found. Next!\nNo Hotel Found. Next!\nNo Hotel Found. Next!\nNo Hotel Found. Next!\nNo Hotel Found. Next!\nNo Hotel Found. Next!\nNo Hotel Found. Next!\nNo Hotel Found. Next!\nNo Hotel Found. Next!\nNo Hotel Found. Next!\nNo Hotel Found. Next!\nNo Hotel Found. Next!\nNo Hotel Found. Next!\nNo Hotel Found. Next!\nNo Hotel Found. Next!\nNo Hotel Found. Next!\nNo Hotel Found. Next!\nNo Hotel Found. Next!\nNo Hotel Found. Next!\nNo Hotel Found. Next!\nNo Hotel Found. Next!\nNo Hotel Found. Next!\nNo Hotel Found. Next!\nNo Hotel Found. Next!\nNo Hotel Found. Next!\nNo Hotel Found. Next!\nNo Hotel Found. Next!\nNo Hotel Found. Next!\nNo Hotel Found. Next!\nNo Hotel Found. Next!\nNo Hotel Found. Next!\nNo Hotel Found. Next!\nNo Hotel Found. Next!\nNo Hotel Found. Next!\nNo Hotel Found. Next!\nNo Hotel Found. Next!\nNo Hotel Found. Next!\nNo Hotel Found. Next!\nNo Hotel Found. Next!\nNo Hotel Found. Next!\nNo Hotel Found. Next!\nNo Hotel Found. Next!\nNo Hotel Found. Next!\nNo Hotel Found. Next!\nNo Hotel Found. Next!\nNo Hotel Found. Next!\nNo Hotel Found. Next!\nNo Hotel Found. Next!\nNo Hotel Found. Next!\nNo Hotel Found. Next!\nNo Hotel Found. Next!\nNo Hotel Found. Next!\nNo Hotel Found. Next!\nNo Hotel Found. Next!\nNo Hotel Found. Next!\nNo Hotel Found. Next!\nNo Hotel Found. Next!\nNo Hotel Found. Next!\nNo Hotel Found. Next!\nNo Hotel Found. Next!\nNo Hotel Found. Next!\nNo Hotel Found. Next!\nNo Hotel Found. Next!\nNo Hotel Found. Next!\nNo Hotel Found. Next!\nNo Hotel Found. Next!\nNo Hotel Found. Next!\nNo Hotel Found. Next!\nNo Hotel Found. Next!\nNo Hotel Found. Next!\nNo Hotel Found. Next!\nNo Hotel Found. Next!\nNo Hotel Found. Next!\nNo Hotel Found. Next!\nNo Hotel Found. Next!\nNo Hotel Found. Next!\nNo Hotel Found. Next!\nNo Hotel Found. Next!\nNo Hotel Found. Next!\nNo Hotel Found. Next!\nNo Hotel Found. Next!\nNo Hotel Found. Next!\nNo Hotel Found. Next!\nNo Hotel Found. Next!\nNo Hotel Found. Next!\nNo Hotel Found. Next!\nNo Hotel Found. Next!\nNo Hotel Found. Next!\nNo Hotel Found. Next!\nNo Hotel Found. Next!\nNo Hotel Found. Next!\nNo Hotel Found. Next!\nNo Hotel Found. Next!\nNo Hotel Found. Next!\nNo Hotel Found. Next!\nNo Hotel Found. Next!\nNo Hotel Found. Next!\nNo Hotel Found. Next!\nNo Hotel Found. Next!\nNo Hotel Found. Next!\nNo Hotel Found. Next!\nNo Hotel Found. Next!\nNo Hotel Found. Next!\nNo Hotel Found. Next!\nNo Hotel Found. Next!\nNo Hotel Found. Next!\nNo Hotel Found. Next!\nNo Hotel Found. Next!\nNo Hotel Found. Next!\nNo Hotel Found. Next!\nNo Hotel Found. Next!\nNo Hotel Found. Next!\nNo Hotel Found. Next!\nNo Hotel Found. Next!\nNo Hotel Found. Next!\nNo Hotel Found. Next!\nNo Hotel Found. Next!\n"
    }
   ],
   "source": [
    "#Create empty list for Hotel Name column and parameters to search\n",
    "hotel_name=[]\n",
    "target_type = \"hotel\"\n",
    "radius = 5000\n",
    "\n",
    "#Define parameters\n",
    "params = {\n",
    "    \"types\": target_type,\n",
    "    \"radius\": radius,\n",
    "    \"key\": g_key\n",
    "}\n",
    "\n",
    "#For loop to search for hotels in locations meeting weather criteria\n",
    "for index, row in hotel_df.iterrows():\n",
    "    \n",
    "    lat = row[\"Lat\"]\n",
    "    lng = row[\"Long\"]\n",
    "    \n",
    "    params[\"location\"] = f\"{lat},{lng}\"\n",
    "      \n",
    "    base_url = \"https://maps.googleapis.com/maps/api/place/nearbysearch/json\"\n",
    "    response = requests.get(base_url, params=params)\n",
    "    response_json=response.json()\n",
    "\n",
    "    try: \n",
    "        hotel_name.append(response_json['results'][0]['name'])\n",
    "    \n",
    "        hotel_df.loc[index, \"Hotel Name\"] = response_json[\"results\"][0][\"name\"]\n",
    "    \n",
    "        print(f\"The nearest hotel to {row[0]} is {response_json['results'][0]['name']}\")  \n",
    "    \n",
    "    except (KeyError, IndexError):\n",
    "        print(\"No Hotel Found. Next!\")\n"
   ]
  },
  {
   "cell_type": "code",
   "execution_count": 36,
   "metadata": {},
   "outputs": [],
   "source": [
    "# NOTE: Do not change any of the code in this cell\n",
    "\n",
    "# Using the template add the hotel marks to the heatmap\n",
    "info_box_template = \"\"\"\n",
    "<dl>\n",
    "<dt>Name</dt><dd>{Hotel Name}</dd>\n",
    "<dt>City</dt><dd>{City}</dd>\n",
    "<dt>Country</dt><dd>{Country}</dd>\n",
    "</dl>\n",
    "\"\"\"\n",
    "# Store the DataFrame Row\n",
    "# NOTE: be sure to update with your DataFrame name\n",
    "hotel_info = [info_box_template.format(**row) for index, row in hotel_df.iterrows()]\n",
    "locations = hotel_df[[\"Lat\", \"Long\"]]"
   ]
  },
  {
   "cell_type": "code",
   "execution_count": 37,
   "metadata": {},
   "outputs": [
    {
     "output_type": "display_data",
     "data": {
      "text/plain": "Figure(layout=FigureLayout(height='420px'))",
      "application/vnd.jupyter.widget-view+json": {
       "version_major": 2,
       "version_minor": 0,
       "model_id": "821d2dd413e541fa9d39e96138867c13"
      }
     },
     "metadata": {}
    }
   ],
   "source": [
    "# Add marker layer ontop of heat map\n",
    "markers = gmaps.marker_layer(locations)\n",
    "fig.add_layer(markers)\n",
    "fig\n",
    "\n",
    "# Display Map"
   ]
  },
  {
   "cell_type": "code",
   "execution_count": null,
   "metadata": {},
   "outputs": [],
   "source": [
    "\n"
   ]
  }
 ],
 "metadata": {
  "kernelspec": {
   "display_name": "Python 3",
   "language": "python",
   "name": "python3"
  },
  "language_info": {
   "codemirror_mode": {
    "name": "ipython",
    "version": 3
   },
   "file_extension": ".py",
   "mimetype": "text/x-python",
   "name": "python",
   "nbconvert_exporter": "python",
   "pygments_lexer": "ipython3",
   "version": "3.7.6-final"
  },
  "latex_envs": {
   "LaTeX_envs_menu_present": true,
   "autoclose": false,
   "autocomplete": true,
   "bibliofile": "biblio.bib",
   "cite_by": "apalike",
   "current_citInitial": 1,
   "eqLabelWithNumbers": true,
   "eqNumInitial": 1,
   "hotkeys": {
    "equation": "Ctrl-E",
    "itemize": "Ctrl-I"
   },
   "labels_anchors": false,
   "latex_user_defs": false,
   "report_style_numbering": false,
   "user_envs_cfg": false
  }
 },
 "nbformat": 4,
 "nbformat_minor": 2
}